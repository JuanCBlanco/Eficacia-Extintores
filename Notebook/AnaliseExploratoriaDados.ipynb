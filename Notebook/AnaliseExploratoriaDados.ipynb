{
 "cells": [
  {
   "attachments": {},
   "cell_type": "markdown",
   "metadata": {},
   "source": [
    "# Importando os pacotes necessários e carregando os dados"
   ]
  },
  {
   "cell_type": "code",
   "execution_count": 1,
   "metadata": {
    "vscode": {
     "languageId": "r"
    }
   },
   "outputs": [
    {
     "name": "stderr",
     "output_type": "stream",
     "text": [
      "Warning message in system(\"timedatectl\", intern = TRUE):\n",
      "“running command 'timedatectl' had status 1”\n",
      "── \u001b[1mAttaching core tidyverse packages\u001b[22m ──────────────────────── tidyverse 2.0.0 ──\n",
      "\u001b[32m✔\u001b[39m \u001b[34mdplyr    \u001b[39m 1.1.0     \u001b[32m✔\u001b[39m \u001b[34mreadr    \u001b[39m 2.1.4\n",
      "\u001b[32m✔\u001b[39m \u001b[34mforcats  \u001b[39m 1.0.0     \u001b[32m✔\u001b[39m \u001b[34mstringr  \u001b[39m 1.5.0\n",
      "\u001b[32m✔\u001b[39m \u001b[34mggplot2  \u001b[39m 3.4.1     \u001b[32m✔\u001b[39m \u001b[34mtibble   \u001b[39m 3.2.0\n",
      "\u001b[32m✔\u001b[39m \u001b[34mlubridate\u001b[39m 1.9.2     \u001b[32m✔\u001b[39m \u001b[34mtidyr    \u001b[39m 1.3.0\n",
      "\u001b[32m✔\u001b[39m \u001b[34mpurrr    \u001b[39m 1.0.1     \n",
      "── \u001b[1mConflicts\u001b[22m ────────────────────────────────────────── tidyverse_conflicts() ──\n",
      "\u001b[31m✖\u001b[39m \u001b[34mdplyr\u001b[39m::\u001b[32mfilter()\u001b[39m masks \u001b[34mstats\u001b[39m::filter()\n",
      "\u001b[31m✖\u001b[39m \u001b[34mdplyr\u001b[39m::\u001b[32mlag()\u001b[39m    masks \u001b[34mstats\u001b[39m::lag()\n",
      "\u001b[36mℹ\u001b[39m Use the conflicted package (\u001b[3m\u001b[34m<http://conflicted.r-lib.org/>\u001b[39m\u001b[23m) to force all conflicts to become errors\n",
      "\n",
      "Attaching package: ‘arrow’\n",
      "\n",
      "\n",
      "The following object is masked from ‘package:lubridate’:\n",
      "\n",
      "    duration\n",
      "\n",
      "\n",
      "The following object is masked from ‘package:utils’:\n",
      "\n",
      "    timestamp\n",
      "\n",
      "\n"
     ]
    }
   ],
   "source": [
    "library(tidyverse)\n",
    "library(arrow)\n",
    "library(ggthemes)"
   ]
  },
  {
   "cell_type": "code",
   "execution_count": 2,
   "metadata": {
    "vscode": {
     "languageId": "r"
    }
   },
   "outputs": [
    {
     "data": {
      "text/html": [
       "<table class=\"dataframe\">\n",
       "<caption>A tibble: 6 × 7</caption>\n",
       "<thead>\n",
       "\t<tr><th scope=col>SIZE</th><th scope=col>FUEL</th><th scope=col>DISTANCE</th><th scope=col>DESIBEL</th><th scope=col>AIRFLOW</th><th scope=col>FREQUENCY</th><th scope=col>STATUS</th></tr>\n",
       "\t<tr><th scope=col>&lt;dbl&gt;</th><th scope=col>&lt;fct&gt;</th><th scope=col>&lt;dbl&gt;</th><th scope=col>&lt;dbl&gt;</th><th scope=col>&lt;dbl&gt;</th><th scope=col>&lt;dbl&gt;</th><th scope=col>&lt;fct&gt;</th></tr>\n",
       "</thead>\n",
       "<tbody>\n",
       "\t<tr><td>1</td><td>gasoline</td><td>10</td><td> 96</td><td>0.0</td><td>75</td><td>0</td></tr>\n",
       "\t<tr><td>1</td><td>gasoline</td><td>10</td><td> 96</td><td>0.0</td><td>72</td><td>1</td></tr>\n",
       "\t<tr><td>1</td><td>gasoline</td><td>10</td><td> 96</td><td>2.6</td><td>70</td><td>1</td></tr>\n",
       "\t<tr><td>1</td><td>gasoline</td><td>10</td><td> 96</td><td>3.2</td><td>68</td><td>1</td></tr>\n",
       "\t<tr><td>1</td><td>gasoline</td><td>10</td><td>109</td><td>4.5</td><td>67</td><td>1</td></tr>\n",
       "\t<tr><td>1</td><td>gasoline</td><td>10</td><td>109</td><td>7.8</td><td>66</td><td>1</td></tr>\n",
       "</tbody>\n",
       "</table>\n"
      ],
      "text/latex": [
       "A tibble: 6 × 7\n",
       "\\begin{tabular}{lllllll}\n",
       " SIZE & FUEL & DISTANCE & DESIBEL & AIRFLOW & FREQUENCY & STATUS\\\\\n",
       " <dbl> & <fct> & <dbl> & <dbl> & <dbl> & <dbl> & <fct>\\\\\n",
       "\\hline\n",
       "\t 1 & gasoline & 10 &  96 & 0.0 & 75 & 0\\\\\n",
       "\t 1 & gasoline & 10 &  96 & 0.0 & 72 & 1\\\\\n",
       "\t 1 & gasoline & 10 &  96 & 2.6 & 70 & 1\\\\\n",
       "\t 1 & gasoline & 10 &  96 & 3.2 & 68 & 1\\\\\n",
       "\t 1 & gasoline & 10 & 109 & 4.5 & 67 & 1\\\\\n",
       "\t 1 & gasoline & 10 & 109 & 7.8 & 66 & 1\\\\\n",
       "\\end{tabular}\n"
      ],
      "text/markdown": [
       "\n",
       "A tibble: 6 × 7\n",
       "\n",
       "| SIZE &lt;dbl&gt; | FUEL &lt;fct&gt; | DISTANCE &lt;dbl&gt; | DESIBEL &lt;dbl&gt; | AIRFLOW &lt;dbl&gt; | FREQUENCY &lt;dbl&gt; | STATUS &lt;fct&gt; |\n",
       "|---|---|---|---|---|---|---|\n",
       "| 1 | gasoline | 10 |  96 | 0.0 | 75 | 0 |\n",
       "| 1 | gasoline | 10 |  96 | 0.0 | 72 | 1 |\n",
       "| 1 | gasoline | 10 |  96 | 2.6 | 70 | 1 |\n",
       "| 1 | gasoline | 10 |  96 | 3.2 | 68 | 1 |\n",
       "| 1 | gasoline | 10 | 109 | 4.5 | 67 | 1 |\n",
       "| 1 | gasoline | 10 | 109 | 7.8 | 66 | 1 |\n",
       "\n"
      ],
      "text/plain": [
       "  SIZE FUEL     DISTANCE DESIBEL AIRFLOW FREQUENCY STATUS\n",
       "1 1    gasoline 10        96     0.0     75        0     \n",
       "2 1    gasoline 10        96     0.0     72        1     \n",
       "3 1    gasoline 10        96     2.6     70        1     \n",
       "4 1    gasoline 10        96     3.2     68        1     \n",
       "5 1    gasoline 10       109     4.5     67        1     \n",
       "6 1    gasoline 10       109     7.8     66        1     "
      ]
     },
     "metadata": {},
     "output_type": "display_data"
    }
   ],
   "source": [
    "dados <- read_parquet(\"../Dados/Processado/Extinguisher_Fire.parquet\")\n",
    "\n",
    "head(dados)"
   ]
  },
  {
   "cell_type": "code",
   "execution_count": 3,
   "metadata": {
    "vscode": {
     "languageId": "r"
    }
   },
   "outputs": [
    {
     "name": "stdout",
     "output_type": "stream",
     "text": [
      "tibble [17,442 × 7] (S3: tbl_df/tbl/data.frame)\n",
      " $ SIZE     : num [1:17442] 1 1 1 1 1 1 1 1 1 1 ...\n",
      " $ FUEL     : Factor w/ 4 levels \"gasoline\",\"kerosene\",..: 1 1 1 1 1 1 1 1 1 1 ...\n",
      " $ DISTANCE : num [1:17442] 10 10 10 10 10 10 10 10 10 10 ...\n",
      " $ DESIBEL  : num [1:17442] 96 96 96 96 109 109 103 95 102 93 ...\n",
      " $ AIRFLOW  : num [1:17442] 0 0 2.6 3.2 4.5 7.8 9.7 12 13.3 15.4 ...\n",
      " $ FREQUENCY: num [1:17442] 75 72 70 68 67 66 65 60 55 52 ...\n",
      " $ STATUS   : Factor w/ 2 levels \"0\",\"1\": 1 2 2 2 2 2 2 2 2 2 ...\n"
     ]
    }
   ],
   "source": [
    "str(dados)"
   ]
  },
  {
   "attachments": {},
   "cell_type": "markdown",
   "metadata": {},
   "source": [
    "# Comprendendo a variável independente"
   ]
  },
  {
   "attachments": {},
   "cell_type": "markdown",
   "metadata": {},
   "source": [
    "Como podemos observar abaixo, a variável status, que temos como objetivo prever, já está relativamente balanceada tanto em relação ao conjunto de dados inteiro quanto por cada tipo de combustível diferente, logo não será necessário realizar algum tipo de trabalho nesse sentido."
   ]
  },
  {
   "cell_type": "code",
   "execution_count": 4,
   "metadata": {
    "vscode": {
     "languageId": "r"
    }
   },
   "outputs": [
    {
     "name": "stderr",
     "output_type": "stream",
     "text": [
      "\u001b[1m\u001b[22m`summarise()` has grouped output by 'STATUS'. You can override using the\n",
      "`.groups` argument.\n"
     ]
    },
    {
     "data": {
      "image/png": "[encoded data removed]",
      "text/plain": [
       "plot without title"
      ]
     },
     "metadata": {
      "image/png": {
       "height": 420,
       "width": 420
      }
     },
     "output_type": "display_data"
    }
   ],
   "source": [
    "dados %>%\n",
    "    group_by(STATUS, FUEL) %>%\n",
    "    summarise(Quantidade = n()) %>%\n",
    "    ggplot() +\n",
    "    aes(x = STATUS, y = Quantidade, fill = FUEL) +\n",
    "    geom_col() + \n",
    "    labs(x = \"Status\", y = \"Quantidade\") +\n",
    "    theme_fivethirtyeight() +\n",
    "    theme(\n",
    "        axis.title.x = element_blank(),\n",
    "        axis.title.y = element_blank(),\n",
    "        plot.title = element_text(\n",
    "            hjust = 0.5\n",
    "    )\n",
    "    ) +\n",
    "    labs(\n",
    "        title = \"Proporção por status e Tipo de Combustível\"\n",
    "    )"
   ]
  },
  {
   "attachments": {},
   "cell_type": "markdown",
   "metadata": {},
   "source": [
    "# Compreendendo as variáveis dependentes"
   ]
  },
  {
   "cell_type": "markdown",
   "metadata": {},
   "source": [
    "## Distribuição de cada tipo de combustível"
   ]
  },
  {
   "attachments": {},
   "cell_type": "markdown",
   "metadata": {},
   "source": [
    "Como podemos observar, para o combustível de tipo lpg, a quantidade de dados é menor que as demais, logo, seria esperado que o modelo não tenha um desempenho tão bom para esse tipo de combustível que os demais."
   ]
  },
  {
   "cell_type": "code",
   "execution_count": 5,
   "metadata": {
    "vscode": {
     "languageId": "r"
    }
   },
   "outputs": [
    {
     "data": {
      "image/png": "[encoded data removed]",
      "text/plain": [
       "plot without title"
      ]
     },
     "metadata": {
      "image/png": {
       "height": 420,
       "width": 420
      }
     },
     "output_type": "display_data"
    }
   ],
   "source": [
    "dados %>%\n",
    "    group_by(FUEL) %>%\n",
    "    summarise(Quantidade = n()) %>%\n",
    "    ggplot() +\n",
    "    aes(x = FUEL, y = Quantidade, fill=FUEL) +\n",
    "    geom_col() +\n",
    "    labs(x = \"Combustível\", y = \"Quantidade\") +\n",
    "    theme_fivethirtyeight() +\n",
    "    theme(\n",
    "        legend.position = \"none\",\n",
    "        axis.title.x = element_blank(),\n",
    "        axis.title.y = element_blank(),\n",
    "        plot.title = element_text(\n",
    "            hjust = 0.5\n",
    "    )\n",
    "    ) +\n",
    "    labs(\n",
    "        title = \"Proporção por Tipo de Combustível\"\n",
    "    )\n"
   ]
  },
  {
   "attachments": {},
   "cell_type": "markdown",
   "metadata": {},
   "source": [
    "## Distribuição do Tamanho"
   ]
  },
  {
   "attachments": {},
   "cell_type": "markdown",
   "metadata": {},
   "source": [
    "De acordo com os metadados, o tamanho do extintor pode ser de 1 a 7. Como podemos observar no gráfico abaixo, quando o tamanho é igual a 7 ou 8 existe um sub-representação de dados isso se deve ao fato de que esse tamanho de extintor só é utilizado quando o tipo de combustível é lpg, logo, da mesma forma que concluímos acima, o modelo não terá um desempenho tão bom para esse tipo de combustível."
   ]
  },
  {
   "cell_type": "code",
   "execution_count": 6,
   "metadata": {
    "vscode": {
     "languageId": "r"
    }
   },
   "outputs": [
    {
     "data": {
      "image/png": "[encoded data removed]",
      "text/plain": [
       "plot without title"
      ]
     },
     "metadata": {
      "image/png": {
       "height": 420,
       "width": 420
      }
     },
     "output_type": "display_data"
    }
   ],
   "source": [
    "dados %>%   \n",
    "    group_by(SIZE) %>%\n",
    "    summarise(Quantidade = n()) %>%\n",
    "    ggplot() +\n",
    "    aes(x = SIZE, y = Quantidade, fill = SIZE) +\n",
    "    geom_col() +\n",
    "    theme_fivethirtyeight() +\n",
    "    theme(\n",
    "        legend.position = \"none\",\n",
    "        axis.title.x = element_blank(),\n",
    "        axis.title.y = element_blank(),\n",
    "        plot.title = element_text(\n",
    "            hjust = 0.5\n",
    "        )\n",
    "    ) +\n",
    "    labs(\n",
    "        title = \"Proporção por Tamanho\"\n",
    "    ) +\n",
    "    scale_x_continuous(breaks = seq(0, 10, 1))"
   ]
  },
  {
   "cell_type": "markdown",
   "metadata": {},
   "source": [
    "## Distribuição das demais colunas numéricas"
   ]
  },
  {
   "attachments": {},
   "cell_type": "markdown",
   "metadata": {},
   "source": [
    "Como podemos observar no gráfico abaixo, as colunas numéricas possuem uma distribuição bem diferente tanto em termos de média quanto de desvio padrão, logo, será necessário realizar algum tipo de normalização dos dados na etapa de modelagem dos dados."
   ]
  },
  {
   "cell_type": "code",
   "execution_count": 7,
   "metadata": {
    "vscode": {
     "languageId": "r"
    }
   },
   "outputs": [
    {
     "data": {
      "image/png": "[encoded data removed]",
      "text/plain": [
       "plot without title"
      ]
     },
     "metadata": {
      "image/png": {
       "height": 420,
       "width": 420
      }
     },
     "output_type": "display_data"
    }
   ],
   "source": [
    "dados %>%\n",
    "    select_if(is.numeric) %>%\n",
    "    gather(key = \"Variável\", value = \"Valor\") %>%\n",
    "    ggplot() +\n",
    "    aes(x = Valor, y = Variável, fill = Variável) +\n",
    "    geom_boxplot() +\n",
    "    coord_flip() +\n",
    "    theme_fivethirtyeight() +\n",
    "    theme(\n",
    "        legend.position = \"none\",\n",
    "        axis.title.x = element_blank(),\n",
    "        axis.title.y = element_blank(),\n",
    "        plot.title = element_text(\n",
    "            hjust = 0.5\n",
    "        )\n",
    "    ) +\n",
    "    labs(\n",
    "        title = \"Distribuição de Variáveis Numéricas\"\n",
    "    )"
   ]
  }
 ],
 "metadata": {
  "kernelspec": {
   "display_name": "R",
   "language": "R",
   "name": "ir"
  },
  "language_info": {
   "codemirror_mode": "r",
   "file_extension": ".r",
   "mimetype": "text/x-r-source",
   "name": "R",
   "pygments_lexer": "r",
   "version": "4.2.3"
  },
  "orig_nbformat": 4
 },
 "nbformat": 4,
 "nbformat_minor": 2
}

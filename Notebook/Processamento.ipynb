{
 "cells": [
  {
   "cell_type": "markdown",
   "metadata": {},
   "source": [
    "# Importando Dados e Bibliotecas"
   ]
  },
  {
   "cell_type": "code",
   "execution_count": 1,
   "metadata": {
    "vscode": {
     "languageId": "r"
    }
   },
   "outputs": [
    {
     "name": "stderr",
     "output_type": "stream",
     "text": [
      "Warning message in system(\"timedatectl\", intern = TRUE):\n",
      "“running command 'timedatectl' had status 1”\n",
      "── \u001b[1mAttaching core tidyverse packages\u001b[22m ──────────────────────── tidyverse 2.0.0 ──\n",
      "\u001b[32m✔\u001b[39m \u001b[34mdplyr    \u001b[39m 1.1.0     \u001b[32m✔\u001b[39m \u001b[34mreadr    \u001b[39m 2.1.4\n",
      "\u001b[32m✔\u001b[39m \u001b[34mforcats  \u001b[39m 1.0.0     \u001b[32m✔\u001b[39m \u001b[34mstringr  \u001b[39m 1.5.0\n",
      "\u001b[32m✔\u001b[39m \u001b[34mggplot2  \u001b[39m 3.4.1     \u001b[32m✔\u001b[39m \u001b[34mtibble   \u001b[39m 3.2.0\n",
      "\u001b[32m✔\u001b[39m \u001b[34mlubridate\u001b[39m 1.9.2     \u001b[32m✔\u001b[39m \u001b[34mtidyr    \u001b[39m 1.3.0\n",
      "\u001b[32m✔\u001b[39m \u001b[34mpurrr    \u001b[39m 1.0.1     \n",
      "── \u001b[1mConflicts\u001b[22m ────────────────────────────────────────── tidyverse_conflicts() ──\n",
      "\u001b[31m✖\u001b[39m \u001b[34mdplyr\u001b[39m::\u001b[32mfilter()\u001b[39m masks \u001b[34mstats\u001b[39m::filter()\n",
      "\u001b[31m✖\u001b[39m \u001b[34mdplyr\u001b[39m::\u001b[32mlag()\u001b[39m    masks \u001b[34mstats\u001b[39m::lag()\n",
      "\u001b[36mℹ\u001b[39m Use the conflicted package (\u001b[3m\u001b[34m<http://conflicted.r-lib.org/>\u001b[39m\u001b[23m) to force all conflicts to become errors\n",
      "\n",
      "Attaching package: ‘arrow’\n",
      "\n",
      "\n",
      "The following object is masked from ‘package:lubridate’:\n",
      "\n",
      "    duration\n",
      "\n",
      "\n",
      "The following object is masked from ‘package:utils’:\n",
      "\n",
      "    timestamp\n",
      "\n",
      "\n"
     ]
    }
   ],
   "source": [
    "library(tidyverse)\n",
    "library(readxl)\n",
    "library(arrow)"
   ]
  },
  {
   "cell_type": "code",
   "execution_count": 2,
   "metadata": {
    "vscode": {
     "languageId": "r"
    }
   },
   "outputs": [
    {
     "data": {
      "text/html": [
       "<table class=\"dataframe\">\n",
       "<caption>A tibble: 6 × 7</caption>\n",
       "<thead>\n",
       "\t<tr><th scope=col>SIZE</th><th scope=col>FUEL</th><th scope=col>DISTANCE</th><th scope=col>DESIBEL</th><th scope=col>AIRFLOW</th><th scope=col>FREQUENCY</th><th scope=col>STATUS</th></tr>\n",
       "\t<tr><th scope=col>&lt;dbl&gt;</th><th scope=col>&lt;chr&gt;</th><th scope=col>&lt;dbl&gt;</th><th scope=col>&lt;dbl&gt;</th><th scope=col>&lt;dbl&gt;</th><th scope=col>&lt;dbl&gt;</th><th scope=col>&lt;dbl&gt;</th></tr>\n",
       "</thead>\n",
       "<tbody>\n",
       "\t<tr><td>1</td><td>gasoline</td><td>10</td><td> 96</td><td>0.0</td><td>75</td><td>0</td></tr>\n",
       "\t<tr><td>1</td><td>gasoline</td><td>10</td><td> 96</td><td>0.0</td><td>72</td><td>1</td></tr>\n",
       "\t<tr><td>1</td><td>gasoline</td><td>10</td><td> 96</td><td>2.6</td><td>70</td><td>1</td></tr>\n",
       "\t<tr><td>1</td><td>gasoline</td><td>10</td><td> 96</td><td>3.2</td><td>68</td><td>1</td></tr>\n",
       "\t<tr><td>1</td><td>gasoline</td><td>10</td><td>109</td><td>4.5</td><td>67</td><td>1</td></tr>\n",
       "\t<tr><td>1</td><td>gasoline</td><td>10</td><td>109</td><td>7.8</td><td>66</td><td>1</td></tr>\n",
       "</tbody>\n",
       "</table>\n"
      ],
      "text/latex": [
       "A tibble: 6 × 7\n",
       "\\begin{tabular}{lllllll}\n",
       " SIZE & FUEL & DISTANCE & DESIBEL & AIRFLOW & FREQUENCY & STATUS\\\\\n",
       " <dbl> & <chr> & <dbl> & <dbl> & <dbl> & <dbl> & <dbl>\\\\\n",
       "\\hline\n",
       "\t 1 & gasoline & 10 &  96 & 0.0 & 75 & 0\\\\\n",
       "\t 1 & gasoline & 10 &  96 & 0.0 & 72 & 1\\\\\n",
       "\t 1 & gasoline & 10 &  96 & 2.6 & 70 & 1\\\\\n",
       "\t 1 & gasoline & 10 &  96 & 3.2 & 68 & 1\\\\\n",
       "\t 1 & gasoline & 10 & 109 & 4.5 & 67 & 1\\\\\n",
       "\t 1 & gasoline & 10 & 109 & 7.8 & 66 & 1\\\\\n",
       "\\end{tabular}\n"
      ],
      "text/markdown": [
       "\n",
       "A tibble: 6 × 7\n",
       "\n",
       "| SIZE &lt;dbl&gt; | FUEL &lt;chr&gt; | DISTANCE &lt;dbl&gt; | DESIBEL &lt;dbl&gt; | AIRFLOW &lt;dbl&gt; | FREQUENCY &lt;dbl&gt; | STATUS &lt;dbl&gt; |\n",
       "|---|---|---|---|---|---|---|\n",
       "| 1 | gasoline | 10 |  96 | 0.0 | 75 | 0 |\n",
       "| 1 | gasoline | 10 |  96 | 0.0 | 72 | 1 |\n",
       "| 1 | gasoline | 10 |  96 | 2.6 | 70 | 1 |\n",
       "| 1 | gasoline | 10 |  96 | 3.2 | 68 | 1 |\n",
       "| 1 | gasoline | 10 | 109 | 4.5 | 67 | 1 |\n",
       "| 1 | gasoline | 10 | 109 | 7.8 | 66 | 1 |\n",
       "\n"
      ],
      "text/plain": [
       "  SIZE FUEL     DISTANCE DESIBEL AIRFLOW FREQUENCY STATUS\n",
       "1 1    gasoline 10        96     0.0     75        0     \n",
       "2 1    gasoline 10        96     0.0     72        1     \n",
       "3 1    gasoline 10        96     2.6     70        1     \n",
       "4 1    gasoline 10        96     3.2     68        1     \n",
       "5 1    gasoline 10       109     4.5     67        1     \n",
       "6 1    gasoline 10       109     7.8     66        1     "
      ]
     },
     "metadata": {},
     "output_type": "display_data"
    }
   ],
   "source": [
    "dados <- read_excel('../Dados/Bruto/Acoustic_Extinguisher_Fire_Dataset.xlsx')\n",
    "\n",
    "head(dados)"
   ]
  },
  {
   "cell_type": "code",
   "execution_count": 3,
   "metadata": {
    "vscode": {
     "languageId": "r"
    }
   },
   "outputs": [
    {
     "name": "stdout",
     "output_type": "stream",
     "text": [
      "tibble [17,442 × 7] (S3: tbl_df/tbl/data.frame)\n",
      " $ SIZE     : num [1:17442] 1 1 1 1 1 1 1 1 1 1 ...\n",
      " $ FUEL     : chr [1:17442] \"gasoline\" \"gasoline\" \"gasoline\" \"gasoline\" ...\n",
      " $ DISTANCE : num [1:17442] 10 10 10 10 10 10 10 10 10 10 ...\n",
      " $ DESIBEL  : num [1:17442] 96 96 96 96 109 109 103 95 102 93 ...\n",
      " $ AIRFLOW  : num [1:17442] 0 0 2.6 3.2 4.5 7.8 9.7 12 13.3 15.4 ...\n",
      " $ FREQUENCY: num [1:17442] 75 72 70 68 67 66 65 60 55 52 ...\n",
      " $ STATUS   : num [1:17442] 0 1 1 1 1 1 1 1 1 1 ...\n"
     ]
    }
   ],
   "source": [
    "str(dados)"
   ]
  },
  {
   "cell_type": "markdown",
   "metadata": {},
   "source": [
    "# Ajustando os tipos de dados"
   ]
  },
  {
   "cell_type": "code",
   "execution_count": 4,
   "metadata": {
    "vscode": {
     "languageId": "r"
    }
   },
   "outputs": [
    {
     "data": {
      "text/html": [
       "<table class=\"dataframe\">\n",
       "<caption>A tibble: 6 × 7</caption>\n",
       "<thead>\n",
       "\t<tr><th scope=col>SIZE</th><th scope=col>FUEL</th><th scope=col>DISTANCE</th><th scope=col>DESIBEL</th><th scope=col>AIRFLOW</th><th scope=col>FREQUENCY</th><th scope=col>STATUS</th></tr>\n",
       "\t<tr><th scope=col>&lt;dbl&gt;</th><th scope=col>&lt;fct&gt;</th><th scope=col>&lt;dbl&gt;</th><th scope=col>&lt;dbl&gt;</th><th scope=col>&lt;dbl&gt;</th><th scope=col>&lt;dbl&gt;</th><th scope=col>&lt;fct&gt;</th></tr>\n",
       "</thead>\n",
       "<tbody>\n",
       "\t<tr><td>1</td><td>gasoline</td><td>10</td><td> 96</td><td>0.0</td><td>75</td><td>0</td></tr>\n",
       "\t<tr><td>1</td><td>gasoline</td><td>10</td><td> 96</td><td>0.0</td><td>72</td><td>1</td></tr>\n",
       "\t<tr><td>1</td><td>gasoline</td><td>10</td><td> 96</td><td>2.6</td><td>70</td><td>1</td></tr>\n",
       "\t<tr><td>1</td><td>gasoline</td><td>10</td><td> 96</td><td>3.2</td><td>68</td><td>1</td></tr>\n",
       "\t<tr><td>1</td><td>gasoline</td><td>10</td><td>109</td><td>4.5</td><td>67</td><td>1</td></tr>\n",
       "\t<tr><td>1</td><td>gasoline</td><td>10</td><td>109</td><td>7.8</td><td>66</td><td>1</td></tr>\n",
       "</tbody>\n",
       "</table>\n"
      ],
      "text/latex": [
       "A tibble: 6 × 7\n",
       "\\begin{tabular}{lllllll}\n",
       " SIZE & FUEL & DISTANCE & DESIBEL & AIRFLOW & FREQUENCY & STATUS\\\\\n",
       " <dbl> & <fct> & <dbl> & <dbl> & <dbl> & <dbl> & <fct>\\\\\n",
       "\\hline\n",
       "\t 1 & gasoline & 10 &  96 & 0.0 & 75 & 0\\\\\n",
       "\t 1 & gasoline & 10 &  96 & 0.0 & 72 & 1\\\\\n",
       "\t 1 & gasoline & 10 &  96 & 2.6 & 70 & 1\\\\\n",
       "\t 1 & gasoline & 10 &  96 & 3.2 & 68 & 1\\\\\n",
       "\t 1 & gasoline & 10 & 109 & 4.5 & 67 & 1\\\\\n",
       "\t 1 & gasoline & 10 & 109 & 7.8 & 66 & 1\\\\\n",
       "\\end{tabular}\n"
      ],
      "text/markdown": [
       "\n",
       "A tibble: 6 × 7\n",
       "\n",
       "| SIZE &lt;dbl&gt; | FUEL &lt;fct&gt; | DISTANCE &lt;dbl&gt; | DESIBEL &lt;dbl&gt; | AIRFLOW &lt;dbl&gt; | FREQUENCY &lt;dbl&gt; | STATUS &lt;fct&gt; |\n",
       "|---|---|---|---|---|---|---|\n",
       "| 1 | gasoline | 10 |  96 | 0.0 | 75 | 0 |\n",
       "| 1 | gasoline | 10 |  96 | 0.0 | 72 | 1 |\n",
       "| 1 | gasoline | 10 |  96 | 2.6 | 70 | 1 |\n",
       "| 1 | gasoline | 10 |  96 | 3.2 | 68 | 1 |\n",
       "| 1 | gasoline | 10 | 109 | 4.5 | 67 | 1 |\n",
       "| 1 | gasoline | 10 | 109 | 7.8 | 66 | 1 |\n",
       "\n"
      ],
      "text/plain": [
       "  SIZE FUEL     DISTANCE DESIBEL AIRFLOW FREQUENCY STATUS\n",
       "1 1    gasoline 10        96     0.0     75        0     \n",
       "2 1    gasoline 10        96     0.0     72        1     \n",
       "3 1    gasoline 10        96     2.6     70        1     \n",
       "4 1    gasoline 10        96     3.2     68        1     \n",
       "5 1    gasoline 10       109     4.5     67        1     \n",
       "6 1    gasoline 10       109     7.8     66        1     "
      ]
     },
     "metadata": {},
     "output_type": "display_data"
    }
   ],
   "source": [
    "dados <- dados %>%\n",
    "    mutate(\n",
    "        STATUS = as.factor(STATUS),\n",
    "        FUEL = as.factor(FUEL)\n",
    "    )\n",
    "\n",
    "head(dados)"
   ]
  },
  {
   "cell_type": "markdown",
   "metadata": {},
   "source": [
    "# Verificando a quantidade de dados faltantes"
   ]
  },
  {
   "cell_type": "code",
   "execution_count": 5,
   "metadata": {
    "vscode": {
     "languageId": "r"
    }
   },
   "outputs": [
    {
     "name": "stderr",
     "output_type": "stream",
     "text": [
      "Warning message:\n",
      "“\u001b[1m\u001b[22m`funs()` was deprecated in dplyr 0.8.0.\n",
      "\u001b[36mℹ\u001b[39m Please use a list of either functions or lambdas:\n",
      "\n",
      "# Simple named list: list(mean = mean, median = median)\n",
      "\n",
      "# Auto named with `tibble::lst()`: tibble::lst(mean, median)\n",
      "\n",
      "# Using lambdas list(~ mean(., trim = .2), ~ median(., na.rm = TRUE))”\n"
     ]
    },
    {
     "data": {
      "text/html": [
       "<table class=\"dataframe\">\n",
       "<caption>A tibble: 0 × 2</caption>\n",
       "<thead>\n",
       "\t<tr><th scope=col>Colunas</th><th scope=col>Quantidade</th></tr>\n",
       "\t<tr><th scope=col>&lt;chr&gt;</th><th scope=col>&lt;int&gt;</th></tr>\n",
       "</thead>\n",
       "<tbody>\n",
       "</tbody>\n",
       "</table>\n"
      ],
      "text/latex": [
       "A tibble: 0 × 2\n",
       "\\begin{tabular}{ll}\n",
       " Colunas & Quantidade\\\\\n",
       " <chr> & <int>\\\\\n",
       "\\hline\n",
       "\\end{tabular}\n"
      ],
      "text/markdown": [
       "\n",
       "A tibble: 0 × 2\n",
       "\n",
       "| Colunas &lt;chr&gt; | Quantidade &lt;int&gt; |\n",
       "|---|---|\n",
       "\n"
      ],
      "text/plain": [
       "     Colunas Quantidade"
      ]
     },
     "metadata": {},
     "output_type": "display_data"
    }
   ],
   "source": [
    "qnt_na <- function(dataset) {\n",
    "    dataset %>%\n",
    "        summarise_all(funs(sum(is.na(.)))) %>%\n",
    "        pivot_longer(cols = everything(), names_to = 'Colunas', values_to = 'Quantidade') %>%\n",
    "        filter(Quantidade > 0) %>%\n",
    "        arrange(desc(Quantidade))\n",
    "}\n",
    "\n",
    "dados %>%\n",
    "    qnt_na()"
   ]
  },
  {
   "cell_type": "markdown",
   "metadata": {},
   "source": [
    "# Exportando os Dados"
   ]
  },
  {
   "cell_type": "code",
   "execution_count": 6,
   "metadata": {
    "vscode": {
     "languageId": "r"
    }
   },
   "outputs": [
    {
     "data": {
      "text/html": [
       "<table class=\"dataframe\">\n",
       "<caption>A tibble: 6 × 7</caption>\n",
       "<thead>\n",
       "\t<tr><th scope=col>SIZE</th><th scope=col>FUEL</th><th scope=col>DISTANCE</th><th scope=col>DESIBEL</th><th scope=col>AIRFLOW</th><th scope=col>FREQUENCY</th><th scope=col>STATUS</th></tr>\n",
       "\t<tr><th scope=col>&lt;dbl&gt;</th><th scope=col>&lt;fct&gt;</th><th scope=col>&lt;dbl&gt;</th><th scope=col>&lt;dbl&gt;</th><th scope=col>&lt;dbl&gt;</th><th scope=col>&lt;dbl&gt;</th><th scope=col>&lt;fct&gt;</th></tr>\n",
       "</thead>\n",
       "<tbody>\n",
       "\t<tr><td>1</td><td>gasoline</td><td>10</td><td> 96</td><td>0.0</td><td>75</td><td>0</td></tr>\n",
       "\t<tr><td>1</td><td>gasoline</td><td>10</td><td> 96</td><td>0.0</td><td>72</td><td>1</td></tr>\n",
       "\t<tr><td>1</td><td>gasoline</td><td>10</td><td> 96</td><td>2.6</td><td>70</td><td>1</td></tr>\n",
       "\t<tr><td>1</td><td>gasoline</td><td>10</td><td> 96</td><td>3.2</td><td>68</td><td>1</td></tr>\n",
       "\t<tr><td>1</td><td>gasoline</td><td>10</td><td>109</td><td>4.5</td><td>67</td><td>1</td></tr>\n",
       "\t<tr><td>1</td><td>gasoline</td><td>10</td><td>109</td><td>7.8</td><td>66</td><td>1</td></tr>\n",
       "</tbody>\n",
       "</table>\n"
      ],
      "text/latex": [
       "A tibble: 6 × 7\n",
       "\\begin{tabular}{lllllll}\n",
       " SIZE & FUEL & DISTANCE & DESIBEL & AIRFLOW & FREQUENCY & STATUS\\\\\n",
       " <dbl> & <fct> & <dbl> & <dbl> & <dbl> & <dbl> & <fct>\\\\\n",
       "\\hline\n",
       "\t 1 & gasoline & 10 &  96 & 0.0 & 75 & 0\\\\\n",
       "\t 1 & gasoline & 10 &  96 & 0.0 & 72 & 1\\\\\n",
       "\t 1 & gasoline & 10 &  96 & 2.6 & 70 & 1\\\\\n",
       "\t 1 & gasoline & 10 &  96 & 3.2 & 68 & 1\\\\\n",
       "\t 1 & gasoline & 10 & 109 & 4.5 & 67 & 1\\\\\n",
       "\t 1 & gasoline & 10 & 109 & 7.8 & 66 & 1\\\\\n",
       "\\end{tabular}\n"
      ],
      "text/markdown": [
       "\n",
       "A tibble: 6 × 7\n",
       "\n",
       "| SIZE &lt;dbl&gt; | FUEL &lt;fct&gt; | DISTANCE &lt;dbl&gt; | DESIBEL &lt;dbl&gt; | AIRFLOW &lt;dbl&gt; | FREQUENCY &lt;dbl&gt; | STATUS &lt;fct&gt; |\n",
       "|---|---|---|---|---|---|---|\n",
       "| 1 | gasoline | 10 |  96 | 0.0 | 75 | 0 |\n",
       "| 1 | gasoline | 10 |  96 | 0.0 | 72 | 1 |\n",
       "| 1 | gasoline | 10 |  96 | 2.6 | 70 | 1 |\n",
       "| 1 | gasoline | 10 |  96 | 3.2 | 68 | 1 |\n",
       "| 1 | gasoline | 10 | 109 | 4.5 | 67 | 1 |\n",
       "| 1 | gasoline | 10 | 109 | 7.8 | 66 | 1 |\n",
       "\n"
      ],
      "text/plain": [
       "  SIZE FUEL     DISTANCE DESIBEL AIRFLOW FREQUENCY STATUS\n",
       "1 1    gasoline 10        96     0.0     75        0     \n",
       "2 1    gasoline 10        96     0.0     72        1     \n",
       "3 1    gasoline 10        96     2.6     70        1     \n",
       "4 1    gasoline 10        96     3.2     68        1     \n",
       "5 1    gasoline 10       109     4.5     67        1     \n",
       "6 1    gasoline 10       109     7.8     66        1     "
      ]
     },
     "metadata": {},
     "output_type": "display_data"
    }
   ],
   "source": [
    "write_parquet(dados, '../Dados/Processado/Extinguisher_Fire.parquet')\n",
    "\n",
    "read_parquet('../Dados/Processado/Extinguisher_Fire.parquet') %>% head()"
   ]
  }
 ],
 "metadata": {
  "kernelspec": {
   "display_name": "R",
   "language": "R",
   "name": "ir"
  },
  "language_info": {
   "codemirror_mode": "r",
   "file_extension": ".r",
   "mimetype": "text/x-r-source",
   "name": "R",
   "pygments_lexer": "r",
   "version": "4.2.2"
  },
  "orig_nbformat": 4
 },
 "nbformat": 4,
 "nbformat_minor": 2
}
